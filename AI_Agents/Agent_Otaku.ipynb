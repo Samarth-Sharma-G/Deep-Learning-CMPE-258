{
  "nbformat": 4,
  "nbformat_minor": 0,
  "metadata": {
    "colab": {
      "provenance": []
    },
    "kernelspec": {
      "name": "python3",
      "display_name": "Python 3"
    },
    "language_info": {
      "name": "python"
    }
  },
  "cells": [
    {
      "cell_type": "markdown",
      "source": [
        "# AI Agent:\n",
        "\n",
        "Agent - Agents use an LLM to determine which actions to take and in what order. An action can either be using a tool and observing its output, or returning to the user."
      ],
      "metadata": {
        "id": "vUmc4iD6yI6p"
      }
    },
    {
      "cell_type": "markdown",
      "source": [
        "## Agent Otaku:\n",
        "\n",
        "Agent Otaku is an simple agent that has information about all the anime in the world, we can ask exciting questions to research and get and overview or understanding about Anime which can help us take real life decisions like should I binge this anime or the plot isn't exciting enough. We can also search based on characters!"
      ],
      "metadata": {
        "id": "FTx081Dkqwpy"
      }
    },
    {
      "cell_type": "code",
      "source": [
        "#importing necessary libraries\n",
        "!pip install openai==0.28\n",
        "!pip install httpx\n",
        "import openai\n",
        "import re\n",
        "import httpx"
      ],
      "metadata": {
        "id": "2hLh61t0YOhB"
      },
      "execution_count": null,
      "outputs": []
    },
    {
      "cell_type": "code",
      "source": [
        "#ApiKey of the LLM\n",
        "openai.api_key = \"Masked API\""
      ],
      "metadata": {
        "id": "P0LIm665YOki"
      },
      "execution_count": null,
      "outputs": []
    },
    {
      "cell_type": "code",
      "source": [
        "#Our Core Otaku Agent Class\n",
        "class Otaku:\n",
        "    #Constructor\n",
        "    def __init__(self, system=\"\"):\n",
        "        self.system = system\n",
        "        self.messages = []\n",
        "        if self.system:\n",
        "            self.messages.append({\"role\": \"system\", \"content\": system})\n",
        "\n",
        "    #Generating the response\n",
        "    def __call__(self, message):\n",
        "        self.messages.append({\"role\": \"user\", \"content\": message})\n",
        "        result = self.execute()\n",
        "        self.messages.append({\"role\": \"assistant\", \"content\": result})\n",
        "        return result\n",
        "\n",
        "    #Interacting with Chat Gpt 3.5 with this\n",
        "    def execute(self):\n",
        "        completion = openai.ChatCompletion.create(model=\"gpt-3.5-turbo\", messages=self.messages)\n",
        "        return completion.choices[0].message.content"
      ],
      "metadata": {
        "id": "vwm7iR2XYAwY"
      },
      "execution_count": null,
      "outputs": []
    },
    {
      "cell_type": "code",
      "source": [
        "#Prompt for the LLM: taken some reference from professors prompt\n",
        "prompt = \"\"\"\n",
        "You run stepwise as Thought, Action, PAUSE, Observation.\n",
        "At the end of the loop you output an Answer\n",
        "Use Thought to describe your thoughts about the question you have been asked.\n",
        "Use Action to run one of the actions available to you - then return PAUSE.\n",
        "Observation will be the result of running those actions.\n",
        "Your available actions are:\n",
        "Anime:\n",
        "e.g. Anime: Solo Leveling\n",
        "Returns a summary and recent news about the term searching from MyAnimeList\n",
        "Example session:\n",
        "Question: Recent Updates on Solo Leveling\n",
        "Thought: I should look up Solo Leveling on Kitsu\n",
        "Action: Anime: Solo Leveling\n",
        "PAUSE\n",
        "You will be called again with this:\n",
        "Observation: Solo Leveling is game based Anime where Sung Jin Woo the Player follows a system to level up to become the Strongest.\n",
        "You then output:\n",
        "Answer: Sung Jin Woo he player becomes strongest becoming player and follwing the System.\n",
        "\"\"\".strip()"
      ],
      "metadata": {
        "id": "-0MP17SLX85l"
      },
      "execution_count": null,
      "outputs": []
    },
    {
      "cell_type": "code",
      "source": [
        "#Function to retrive data from Kitsu.io\n",
        "def myanimelist(query):\n",
        "    # Note: searching by title.\n",
        "    response = httpx.get(f\"https://kitsu.io/api/edge/anime\", params={\n",
        "        \"filter[text]\": query\n",
        "    })\n",
        "\n",
        "    # Parseing the JSON response.\n",
        "    data = response.json()\n",
        "\n",
        "    # Checking if there is any anime returned.\n",
        "    if not data or \"data\" not in data or not data[\"data\"]:\n",
        "        return \"No results found.\"\n",
        "\n",
        "    # Extracting the first anime's attributes for simplicity.\n",
        "    anime = data[\"data\"][0]\n",
        "    title = anime[\"attributes\"][\"canonicalTitle\"]\n",
        "    synopsis = anime[\"attributes\"][\"synopsis\"]\n",
        "\n",
        "    # Return a formatted string with the title and synopsis.\n",
        "    return f\"Title: {title}\\nSynopsis: {synopsis}\"\n",
        "\n",
        "#Available Actions, Mapping Action to function\n",
        "known_actions = {\n",
        "    \"Anime\": myanimelist\n",
        "}"
      ],
      "metadata": {
        "id": "7KNdocLDTOif"
      },
      "execution_count": null,
      "outputs": []
    },
    {
      "cell_type": "code",
      "source": [
        "#Parsing through the query using regular expressions\n",
        "action_re = re.compile('^Action: (\\w+): (.*)$')\n",
        "def query(question, max_turns=2):\n",
        "    i = 0\n",
        "    #Initializing the Agent\n",
        "    bot = Otaku(prompt)\n",
        "    #asking the question\n",
        "    next_prompt = question\n",
        "    while i < max_turns:\n",
        "        i += 1\n",
        "        #recording the thought process and printing it\n",
        "        result = bot(next_prompt)\n",
        "        print(result)\n",
        "        #retriving the action\n",
        "        actions = [action_re.match(a) for a in result.split('\\n') if action_re.match(a)]\n",
        "        #checking if there is a match and thus an action to run\n",
        "        if actions:\n",
        "            # There is an action to run\n",
        "            action, action_input = actions[0].groups()\n",
        "            #Checking if action is a known action\n",
        "            if action not in known_actions:\n",
        "                raise Exception(\"Unknown action: {}: {}\".format(action, action_input))\n",
        "            print(\" -- running {} {}\".format(action, action_input))\n",
        "            observation = known_actions[action](action_input)\n",
        "            print(\"Observation:\", observation)\n",
        "            next_prompt = \"Observation: {}\".format(observation)\n",
        "        else:\n",
        "            return None"
      ],
      "metadata": {
        "id": "VrFbx1T5S8id"
      },
      "execution_count": null,
      "outputs": []
    },
    {
      "cell_type": "markdown",
      "source": [
        "Asking our Otaku about the legendary Saiyan Goku :)"
      ],
      "metadata": {
        "id": "fe0kgHh-v-4r"
      }
    },
    {
      "cell_type": "code",
      "execution_count": null,
      "metadata": {
        "colab": {
          "base_uri": "https://localhost:8080/"
        },
        "id": "hEsfY-MaunAt",
        "outputId": "461d6bac-3df5-40ec-f724-ac06d68eb8ae"
      },
      "outputs": [
        {
          "output_type": "stream",
          "name": "stdout",
          "text": [
            "Thought: Goku is a widely recognized character from the Dragon Ball series.\n",
            "\n",
            "Action: Anime: Dragon Ball\n",
            "PAUSE\n",
            " -- running Anime Dragon Ball\n",
            "Observation: Title: Dragon Ball\n",
            "Synopsis: Gokuu Son is a young boy who lives in the woods all alone—that is, until a girl named Bulma runs into him in her search for a set of magical objects called the \"Dragon Balls.\" Since the artifacts are said to grant one wish to whoever collects all seven, Bulma hopes to gather them and wish for a perfect boyfriend. Gokuu happens to be in possession of a dragon ball, but unfortunately for Bulma, he refuses to part ways with it, so she makes him a deal: he can tag along on her journey if he lets her borrow the dragon ball's power. With that, the two set off on the journey of a lifetime.\n",
            "They don't go on the journey alone. On the way, they meet the old Muten-Roshi and wannabe disciple Kuririn, with whom Gokuu trains to become a stronger martial artist for the upcoming World Martial Arts Tournament. However, it's not all fun and games; the ability to make any wish come true is a powerful one, and there are others who would do much worse than just wishing for a boyfriend. To stop those who would try to abuse the legendary power, they train to become stronger fighters, using their newfound strength to help the people around them along the way.\n",
            "[Written by MAL Rewrite]\n",
            "Answer: Goku is described as a young boy who lives in the woods and joins Bulma on a journey to collect the magical Dragon Balls, which can grant a wish to whoever collects all seven. Goku trains to become a stronger martial artist along with his companions to prevent the misuse of the Dragon Balls' power.\n"
          ]
        }
      ],
      "source": [
        "#Asking the question to Otaku\n",
        "query('Who is Goku?')"
      ]
    },
    {
      "cell_type": "markdown",
      "source": [
        "Each part of the process is well commented and refrences have been mentioned."
      ],
      "metadata": {
        "id": "LxvZnG6R7znP"
      }
    }
  ]
}