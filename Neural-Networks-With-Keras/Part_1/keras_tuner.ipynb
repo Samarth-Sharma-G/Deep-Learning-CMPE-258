{
  "cells": [
    {
      "cell_type": "markdown",
      "metadata": {
        "id": "xHxb-dlhMIzW"
      },
      "source": [
        "\n",
        "The Keras Tuner is a library that helps you pick the optimal set of hyperparameters for your TensorFlow program.\n"
      ]
    },
    {
      "cell_type": "code",
      "execution_count": 1,
      "metadata": {
        "execution": {
          "iopub.execute_input": "2023-12-07T03:19:58.047090Z",
          "iopub.status.busy": "2023-12-07T03:19:58.046855Z",
          "iopub.status.idle": "2023-12-07T03:20:00.418703Z",
          "shell.execute_reply": "2023-12-07T03:20:00.418001Z"
        },
        "id": "IqR2PQG4ZaZ0"
      },
      "outputs": [],
      "source": [
        "import tensorflow as tf\n",
        "from tensorflow import keras"
      ]
    },
    {
      "cell_type": "code",
      "execution_count": 2,
      "metadata": {
        "execution": {
          "iopub.execute_input": "2023-12-07T03:20:00.423105Z",
          "iopub.status.busy": "2023-12-07T03:20:00.422681Z",
          "iopub.status.idle": "2023-12-07T03:20:02.778604Z",
          "shell.execute_reply": "2023-12-07T03:20:02.777563Z"
        },
        "id": "hpMLpbt9jcO6",
        "colab": {
          "base_uri": "https://localhost:8080/"
        },
        "outputId": "eeea8a3f-f314-407c-f675-4f2bd9a692b4"
      },
      "outputs": [
        {
          "output_type": "stream",
          "name": "stdout",
          "text": [
            "\u001b[?25l     \u001b[90m━━━━━━━━━━━━━━━━━━━━━━━━━━━━━━━━━━━━━━━━\u001b[0m \u001b[32m0.0/129.1 kB\u001b[0m \u001b[31m?\u001b[0m eta \u001b[36m-:--:--\u001b[0m\r\u001b[2K     \u001b[90m━━━━━━━━━━━━━━━━━━━━━━━━━━━━━━━━━━━━━━━━\u001b[0m \u001b[32m129.1/129.1 kB\u001b[0m \u001b[31m4.1 MB/s\u001b[0m eta \u001b[36m0:00:00\u001b[0m\n",
            "\u001b[?25h"
          ]
        }
      ],
      "source": [
        "!pip install -q -U keras-tuner"
      ]
    },
    {
      "cell_type": "code",
      "execution_count": 3,
      "metadata": {
        "execution": {
          "iopub.execute_input": "2023-12-07T03:20:02.783518Z",
          "iopub.status.busy": "2023-12-07T03:20:02.782775Z",
          "iopub.status.idle": "2023-12-07T03:20:03.130579Z",
          "shell.execute_reply": "2023-12-07T03:20:03.129567Z"
        },
        "id": "_leAIdFKAxAD"
      },
      "outputs": [],
      "source": [
        "import keras_tuner as kt"
      ]
    },
    {
      "cell_type": "markdown",
      "metadata": {
        "id": "HljH_ENLEdHa"
      },
      "source": [
        "Loading the fashion mnist data."
      ]
    },
    {
      "cell_type": "code",
      "execution_count": 4,
      "metadata": {
        "execution": {
          "iopub.execute_input": "2023-12-07T03:20:03.136168Z",
          "iopub.status.busy": "2023-12-07T03:20:03.135094Z",
          "iopub.status.idle": "2023-12-07T03:20:03.542925Z",
          "shell.execute_reply": "2023-12-07T03:20:03.542192Z"
        },
        "id": "OHlHs9Wj_PUM",
        "colab": {
          "base_uri": "https://localhost:8080/"
        },
        "outputId": "51a59d15-e13d-4f54-acc2-c4c1f3d2b6c1"
      },
      "outputs": [
        {
          "output_type": "stream",
          "name": "stdout",
          "text": [
            "Downloading data from https://storage.googleapis.com/tensorflow/tf-keras-datasets/train-labels-idx1-ubyte.gz\n",
            "29515/29515 [==============================] - 0s 0us/step\n",
            "Downloading data from https://storage.googleapis.com/tensorflow/tf-keras-datasets/train-images-idx3-ubyte.gz\n",
            "26421880/26421880 [==============================] - 1s 0us/step\n",
            "Downloading data from https://storage.googleapis.com/tensorflow/tf-keras-datasets/t10k-labels-idx1-ubyte.gz\n",
            "5148/5148 [==============================] - 0s 0us/step\n",
            "Downloading data from https://storage.googleapis.com/tensorflow/tf-keras-datasets/t10k-images-idx3-ubyte.gz\n",
            "4422102/4422102 [==============================] - 1s 0us/step\n"
          ]
        }
      ],
      "source": [
        "(img_train, label_train), (img_test, label_test) = keras.datasets.fashion_mnist.load_data()"
      ]
    },
    {
      "cell_type": "code",
      "execution_count": 5,
      "metadata": {
        "execution": {
          "iopub.execute_input": "2023-12-07T03:20:03.547320Z",
          "iopub.status.busy": "2023-12-07T03:20:03.546629Z",
          "iopub.status.idle": "2023-12-07T03:20:03.646142Z",
          "shell.execute_reply": "2023-12-07T03:20:03.645354Z"
        },
        "id": "bLVhXs3xrUD0"
      },
      "outputs": [],
      "source": [
        "# Normalize pixel values between 0 and 1\n",
        "img_train = img_train.astype('float32') / 255.0\n",
        "img_test = img_test.astype('float32') / 255.0"
      ]
    },
    {
      "cell_type": "markdown",
      "metadata": {
        "id": "K5YEL2H2Ax3e"
      },
      "source": [
        "## Defining the model\n",
        "\n",
        "When you build a model for hypertuning, you also define the hyperparameter search space in addition to the model architecture. The model you set up for hypertuning is called a *hypermodel*.\n"
      ]
    },
    {
      "cell_type": "code",
      "execution_count": 6,
      "metadata": {
        "execution": {
          "iopub.execute_input": "2023-12-07T03:20:03.650529Z",
          "iopub.status.busy": "2023-12-07T03:20:03.650216Z",
          "iopub.status.idle": "2023-12-07T03:20:03.655939Z",
          "shell.execute_reply": "2023-12-07T03:20:03.655314Z"
        },
        "id": "ZQKodC-jtsva"
      },
      "outputs": [],
      "source": [
        "def model_builder(hp):\n",
        "  model = keras.Sequential()\n",
        "  model.add(keras.layers.Flatten(input_shape=(28, 28)))\n",
        "\n",
        "  # Tune the number of units in the first Dense layer\n",
        "  # Choose an optimal value between 32-512\n",
        "  hp_units = hp.Int('units', min_value=32, max_value=512, step=32)\n",
        "  model.add(keras.layers.Dense(units=hp_units, activation='relu'))\n",
        "  model.add(keras.layers.Dense(10))\n",
        "\n",
        "  # Tune the learning rate for the optimizer\n",
        "  # Choose an optimal value from 0.01, 0.001, or 0.0001\n",
        "  hp_learning_rate = hp.Choice('learning_rate', values=[1e-2, 1e-3, 1e-4])\n",
        "\n",
        "  model.compile(optimizer=keras.optimizers.Adam(learning_rate=hp_learning_rate),\n",
        "                loss=keras.losses.SparseCategoricalCrossentropy(from_logits=True),\n",
        "                metrics=['accuracy'])\n",
        "\n",
        "  return model"
      ]
    },
    {
      "cell_type": "markdown",
      "metadata": {
        "id": "0J1VYw4q3x0b"
      },
      "source": [
        "## Instantiate the tuner and perform hypertuning\n",
        "\n",
        "Instantiate the tuner to perform the hypertuning. The Keras Tuner has four tuners available - `RandomSearch`, `Hyperband`, `BayesianOptimization`, and `Sklearn`."
      ]
    },
    {
      "cell_type": "code",
      "execution_count": 7,
      "metadata": {
        "execution": {
          "iopub.execute_input": "2023-12-07T03:20:03.659627Z",
          "iopub.status.busy": "2023-12-07T03:20:03.658917Z",
          "iopub.status.idle": "2023-12-07T03:20:05.979646Z",
          "shell.execute_reply": "2023-12-07T03:20:05.978757Z"
        },
        "id": "oichQFly6Y46"
      },
      "outputs": [],
      "source": [
        "tuner = kt.Hyperband(model_builder,\n",
        "                     objective='val_accuracy',\n",
        "                     max_epochs=10,\n",
        "                     factor=3,\n",
        "                     directory='my_dir',\n",
        "                     project_name='intro_to_kt')"
      ]
    },
    {
      "cell_type": "markdown",
      "metadata": {
        "id": "VaIhhdKf9VtI"
      },
      "source": [
        "The Hyperband tuning algorithm uses adaptive resource allocation and early-stopping to quickly converge on a high-performing model. This is done using a sports championship style bracket. The algorithm trains a large number of models for a few epochs and carries forward only the top-performing half of models to the next round. Hyperband determines the number of models to train in a bracket by computing 1 + log<sub>`factor`</sub>(`max_epochs`) and rounding it up to the nearest integer."
      ]
    },
    {
      "cell_type": "markdown",
      "metadata": {
        "id": "cwhBdXx0Ekj8"
      },
      "source": [
        "Create a callback to stop training early after reaching a certain value for the validation loss."
      ]
    },
    {
      "cell_type": "code",
      "execution_count": 8,
      "metadata": {
        "execution": {
          "iopub.execute_input": "2023-12-07T03:20:05.984275Z",
          "iopub.status.busy": "2023-12-07T03:20:05.983977Z",
          "iopub.status.idle": "2023-12-07T03:20:05.987832Z",
          "shell.execute_reply": "2023-12-07T03:20:05.987132Z"
        },
        "id": "WT9IkS9NEjLc"
      },
      "outputs": [],
      "source": [
        "stop_early = tf.keras.callbacks.EarlyStopping(monitor='val_loss', patience=5)"
      ]
    },
    {
      "cell_type": "markdown",
      "metadata": {
        "id": "UKghEo15Tduy"
      },
      "source": [
        "Run the hyperparameter search. The arguments for the search method are the same as those used for `tf.keras.model.fit` in addition to the callback above."
      ]
    },
    {
      "cell_type": "code",
      "execution_count": 9,
      "metadata": {
        "execution": {
          "iopub.execute_input": "2023-12-07T03:20:05.991445Z",
          "iopub.status.busy": "2023-12-07T03:20:05.990814Z",
          "iopub.status.idle": "2023-12-07T03:28:48.512022Z",
          "shell.execute_reply": "2023-12-07T03:28:48.511228Z"
        },
        "id": "dSBQcTHF9cKt",
        "colab": {
          "base_uri": "https://localhost:8080/"
        },
        "outputId": "9f53ebd2-a484-4eb1-ffbc-99d7942c5bfc"
      },
      "outputs": [
        {
          "output_type": "stream",
          "name": "stdout",
          "text": [
            "Trial 30 Complete [00h 01m 23s]\n",
            "val_accuracy: 0.8723333477973938\n",
            "\n",
            "Best val_accuracy So Far: 0.8912500143051147\n",
            "Total elapsed time: 00h 13m 58s\n",
            "\n",
            "The hyperparameter search is complete. The optimal number of units in the first densely-connected\n",
            "layer is 448 and the optimal learning rate for the optimizer\n",
            "is 0.001.\n",
            "\n"
          ]
        }
      ],
      "source": [
        "tuner.search(img_train, label_train, epochs=50, validation_split=0.2, callbacks=[stop_early])\n",
        "\n",
        "# Get the optimal hyperparameters\n",
        "best_hps=tuner.get_best_hyperparameters(num_trials=1)[0]\n",
        "\n",
        "print(f\"\"\"\n",
        "The hyperparameter search is complete. The optimal number of units in the first densely-connected\n",
        "layer is {best_hps.get('units')} and the optimal learning rate for the optimizer\n",
        "is {best_hps.get('learning_rate')}.\n",
        "\"\"\")"
      ]
    },
    {
      "cell_type": "markdown",
      "metadata": {
        "id": "Lak_ylf88xBv"
      },
      "source": [
        "## Train the model\n",
        "\n",
        "Find the optimal number of epochs to train the model with the hyperparameters obtained from the search."
      ]
    },
    {
      "cell_type": "code",
      "execution_count": 10,
      "metadata": {
        "execution": {
          "iopub.execute_input": "2023-12-07T03:28:48.515436Z",
          "iopub.status.busy": "2023-12-07T03:28:48.515165Z",
          "iopub.status.idle": "2023-12-07T03:31:57.753169Z",
          "shell.execute_reply": "2023-12-07T03:31:57.752415Z"
        },
        "id": "McO82AXOuxXh",
        "colab": {
          "base_uri": "https://localhost:8080/"
        },
        "outputId": "c49af0df-e481-4d43-ecbb-539e53d3ab50"
      },
      "outputs": [
        {
          "output_type": "stream",
          "name": "stdout",
          "text": [
            "Epoch 1/50\n",
            "1500/1500 [==============================] - 6s 3ms/step - loss: 0.4949 - accuracy: 0.8240 - val_loss: 0.4050 - val_accuracy: 0.8540\n",
            "Epoch 2/50\n",
            "1500/1500 [==============================] - 4s 3ms/step - loss: 0.3684 - accuracy: 0.8669 - val_loss: 0.3733 - val_accuracy: 0.8630\n",
            "Epoch 3/50\n",
            "1500/1500 [==============================] - 4s 3ms/step - loss: 0.3309 - accuracy: 0.8786 - val_loss: 0.3670 - val_accuracy: 0.8655\n",
            "Epoch 4/50\n",
            "1500/1500 [==============================] - 5s 3ms/step - loss: 0.3068 - accuracy: 0.8865 - val_loss: 0.3401 - val_accuracy: 0.8783\n",
            "Epoch 5/50\n",
            "1500/1500 [==============================] - 4s 3ms/step - loss: 0.2848 - accuracy: 0.8951 - val_loss: 0.3192 - val_accuracy: 0.8850\n",
            "Epoch 6/50\n",
            "1500/1500 [==============================] - 5s 3ms/step - loss: 0.2720 - accuracy: 0.8987 - val_loss: 0.3461 - val_accuracy: 0.8767\n",
            "Epoch 7/50\n",
            "1500/1500 [==============================] - 5s 3ms/step - loss: 0.2559 - accuracy: 0.9047 - val_loss: 0.3137 - val_accuracy: 0.8872\n",
            "Epoch 8/50\n",
            "1500/1500 [==============================] - 4s 3ms/step - loss: 0.2451 - accuracy: 0.9085 - val_loss: 0.3383 - val_accuracy: 0.8784\n",
            "Epoch 9/50\n",
            "1500/1500 [==============================] - 5s 4ms/step - loss: 0.2356 - accuracy: 0.9111 - val_loss: 0.3120 - val_accuracy: 0.8913\n",
            "Epoch 10/50\n",
            "1500/1500 [==============================] - 4s 3ms/step - loss: 0.2253 - accuracy: 0.9166 - val_loss: 0.3329 - val_accuracy: 0.8850\n",
            "Epoch 11/50\n",
            "1500/1500 [==============================] - 4s 3ms/step - loss: 0.2141 - accuracy: 0.9195 - val_loss: 0.3410 - val_accuracy: 0.8852\n",
            "Epoch 12/50\n",
            "1500/1500 [==============================] - 5s 4ms/step - loss: 0.2069 - accuracy: 0.9213 - val_loss: 0.3369 - val_accuracy: 0.8876\n",
            "Epoch 13/50\n",
            "1500/1500 [==============================] - 4s 3ms/step - loss: 0.1996 - accuracy: 0.9250 - val_loss: 0.3147 - val_accuracy: 0.8942\n",
            "Epoch 14/50\n",
            "1500/1500 [==============================] - 5s 4ms/step - loss: 0.1913 - accuracy: 0.9290 - val_loss: 0.3347 - val_accuracy: 0.8894\n",
            "Epoch 15/50\n",
            "1500/1500 [==============================] - 4s 3ms/step - loss: 0.1872 - accuracy: 0.9303 - val_loss: 0.3288 - val_accuracy: 0.8962\n",
            "Epoch 16/50\n",
            "1500/1500 [==============================] - 4s 3ms/step - loss: 0.1780 - accuracy: 0.9326 - val_loss: 0.3370 - val_accuracy: 0.8883\n",
            "Epoch 17/50\n",
            "1500/1500 [==============================] - 5s 3ms/step - loss: 0.1724 - accuracy: 0.9350 - val_loss: 0.3398 - val_accuracy: 0.8882\n",
            "Epoch 18/50\n",
            "1500/1500 [==============================] - 4s 3ms/step - loss: 0.1679 - accuracy: 0.9375 - val_loss: 0.3163 - val_accuracy: 0.8997\n",
            "Epoch 19/50\n",
            "1500/1500 [==============================] - 5s 3ms/step - loss: 0.1604 - accuracy: 0.9398 - val_loss: 0.3459 - val_accuracy: 0.8930\n",
            "Epoch 20/50\n",
            "1500/1500 [==============================] - 4s 3ms/step - loss: 0.1559 - accuracy: 0.9421 - val_loss: 0.3521 - val_accuracy: 0.8918\n",
            "Epoch 21/50\n",
            "1500/1500 [==============================] - 4s 3ms/step - loss: 0.1518 - accuracy: 0.9416 - val_loss: 0.3380 - val_accuracy: 0.8958\n",
            "Epoch 22/50\n",
            "1500/1500 [==============================] - 5s 3ms/step - loss: 0.1477 - accuracy: 0.9444 - val_loss: 0.3523 - val_accuracy: 0.8938\n",
            "Epoch 23/50\n",
            "1500/1500 [==============================] - 4s 3ms/step - loss: 0.1429 - accuracy: 0.9459 - val_loss: 0.3581 - val_accuracy: 0.8942\n",
            "Epoch 24/50\n",
            "1500/1500 [==============================] - 4s 3ms/step - loss: 0.1394 - accuracy: 0.9467 - val_loss: 0.3675 - val_accuracy: 0.8944\n",
            "Epoch 25/50\n",
            "1500/1500 [==============================] - 5s 3ms/step - loss: 0.1321 - accuracy: 0.9506 - val_loss: 0.3839 - val_accuracy: 0.8940\n",
            "Epoch 26/50\n",
            "1500/1500 [==============================] - 4s 3ms/step - loss: 0.1310 - accuracy: 0.9508 - val_loss: 0.3702 - val_accuracy: 0.8976\n",
            "Epoch 27/50\n",
            "1500/1500 [==============================] - 5s 3ms/step - loss: 0.1273 - accuracy: 0.9528 - val_loss: 0.3845 - val_accuracy: 0.8933\n",
            "Epoch 28/50\n",
            "1500/1500 [==============================] - 5s 3ms/step - loss: 0.1228 - accuracy: 0.9533 - val_loss: 0.3894 - val_accuracy: 0.8927\n",
            "Epoch 29/50\n",
            "1500/1500 [==============================] - 4s 3ms/step - loss: 0.1210 - accuracy: 0.9545 - val_loss: 0.3814 - val_accuracy: 0.8972\n",
            "Epoch 30/50\n",
            "1500/1500 [==============================] - 5s 3ms/step - loss: 0.1164 - accuracy: 0.9562 - val_loss: 0.4278 - val_accuracy: 0.8855\n",
            "Epoch 31/50\n",
            "1500/1500 [==============================] - 4s 3ms/step - loss: 0.1135 - accuracy: 0.9565 - val_loss: 0.4361 - val_accuracy: 0.8912\n",
            "Epoch 32/50\n",
            "1500/1500 [==============================] - 4s 3ms/step - loss: 0.1098 - accuracy: 0.9599 - val_loss: 0.4158 - val_accuracy: 0.8894\n",
            "Epoch 33/50\n",
            "1500/1500 [==============================] - 5s 3ms/step - loss: 0.1074 - accuracy: 0.9597 - val_loss: 0.4537 - val_accuracy: 0.8885\n",
            "Epoch 34/50\n",
            "1500/1500 [==============================] - 4s 3ms/step - loss: 0.1064 - accuracy: 0.9599 - val_loss: 0.4663 - val_accuracy: 0.8818\n",
            "Epoch 35/50\n",
            "1500/1500 [==============================] - 5s 4ms/step - loss: 0.1040 - accuracy: 0.9613 - val_loss: 0.4201 - val_accuracy: 0.8948\n",
            "Epoch 36/50\n",
            "1500/1500 [==============================] - 4s 3ms/step - loss: 0.0978 - accuracy: 0.9629 - val_loss: 0.4586 - val_accuracy: 0.8907\n",
            "Epoch 37/50\n",
            "1500/1500 [==============================] - 5s 3ms/step - loss: 0.0957 - accuracy: 0.9642 - val_loss: 0.4513 - val_accuracy: 0.8903\n",
            "Epoch 38/50\n",
            "1500/1500 [==============================] - 6s 4ms/step - loss: 0.0945 - accuracy: 0.9645 - val_loss: 0.4769 - val_accuracy: 0.8939\n",
            "Epoch 39/50\n",
            "1500/1500 [==============================] - 4s 3ms/step - loss: 0.0938 - accuracy: 0.9649 - val_loss: 0.4939 - val_accuracy: 0.8873\n",
            "Epoch 40/50\n",
            "1500/1500 [==============================] - 5s 3ms/step - loss: 0.0906 - accuracy: 0.9664 - val_loss: 0.4625 - val_accuracy: 0.8940\n",
            "Epoch 41/50\n",
            "1500/1500 [==============================] - 5s 3ms/step - loss: 0.0897 - accuracy: 0.9661 - val_loss: 0.4681 - val_accuracy: 0.8940\n",
            "Epoch 42/50\n",
            "1500/1500 [==============================] - 4s 3ms/step - loss: 0.0846 - accuracy: 0.9678 - val_loss: 0.4918 - val_accuracy: 0.8943\n",
            "Epoch 43/50\n",
            "1500/1500 [==============================] - 5s 3ms/step - loss: 0.0850 - accuracy: 0.9679 - val_loss: 0.4918 - val_accuracy: 0.8944\n",
            "Epoch 44/50\n",
            "1500/1500 [==============================] - 4s 3ms/step - loss: 0.0831 - accuracy: 0.9681 - val_loss: 0.4767 - val_accuracy: 0.8942\n",
            "Epoch 45/50\n",
            "1500/1500 [==============================] - 4s 3ms/step - loss: 0.0809 - accuracy: 0.9697 - val_loss: 0.5093 - val_accuracy: 0.8928\n",
            "Epoch 46/50\n",
            "1500/1500 [==============================] - 5s 3ms/step - loss: 0.0806 - accuracy: 0.9697 - val_loss: 0.5373 - val_accuracy: 0.8904\n",
            "Epoch 47/50\n",
            "1500/1500 [==============================] - 4s 3ms/step - loss: 0.0810 - accuracy: 0.9697 - val_loss: 0.5229 - val_accuracy: 0.8953\n",
            "Epoch 48/50\n",
            "1500/1500 [==============================] - 5s 3ms/step - loss: 0.0743 - accuracy: 0.9720 - val_loss: 0.5274 - val_accuracy: 0.8954\n",
            "Epoch 49/50\n",
            "1500/1500 [==============================] - 4s 3ms/step - loss: 0.0784 - accuracy: 0.9703 - val_loss: 0.5169 - val_accuracy: 0.8919\n",
            "Epoch 50/50\n",
            "1500/1500 [==============================] - 4s 3ms/step - loss: 0.0746 - accuracy: 0.9716 - val_loss: 0.5246 - val_accuracy: 0.8947\n",
            "Best epoch: 18\n"
          ]
        }
      ],
      "source": [
        "# Build the model with the optimal hyperparameters and train it on the data for 50 epochs\n",
        "model = tuner.hypermodel.build(best_hps)\n",
        "history = model.fit(img_train, label_train, epochs=50, validation_split=0.2)\n",
        "\n",
        "val_acc_per_epoch = history.history['val_accuracy']\n",
        "best_epoch = val_acc_per_epoch.index(max(val_acc_per_epoch)) + 1\n",
        "print('Best epoch: %d' % (best_epoch,))"
      ]
    },
    {
      "cell_type": "markdown",
      "metadata": {
        "id": "uOTSirSTI3Gp"
      },
      "source": [
        "Re-instantiate the hypermodel and train it with the optimal number of epochs from above."
      ]
    },
    {
      "cell_type": "code",
      "execution_count": 11,
      "metadata": {
        "execution": {
          "iopub.execute_input": "2023-12-07T03:31:57.757140Z",
          "iopub.status.busy": "2023-12-07T03:31:57.756644Z",
          "iopub.status.idle": "2023-12-07T03:34:44.271329Z",
          "shell.execute_reply": "2023-12-07T03:34:44.270534Z"
        },
        "id": "NoiPUEHmMhCe",
        "colab": {
          "base_uri": "https://localhost:8080/"
        },
        "outputId": "a2d2f086-49c4-4226-d954-7c4a09ddd380"
      },
      "outputs": [
        {
          "output_type": "stream",
          "name": "stdout",
          "text": [
            "Epoch 1/18\n",
            "1500/1500 [==============================] - 6s 4ms/step - loss: 0.4942 - accuracy: 0.8240 - val_loss: 0.4032 - val_accuracy: 0.8513\n",
            "Epoch 2/18\n",
            "1500/1500 [==============================] - 4s 3ms/step - loss: 0.3729 - accuracy: 0.8635 - val_loss: 0.3710 - val_accuracy: 0.8689\n",
            "Epoch 3/18\n",
            "1500/1500 [==============================] - 4s 3ms/step - loss: 0.3317 - accuracy: 0.8786 - val_loss: 0.3325 - val_accuracy: 0.8794\n",
            "Epoch 4/18\n",
            "1500/1500 [==============================] - 5s 3ms/step - loss: 0.3070 - accuracy: 0.8871 - val_loss: 0.3408 - val_accuracy: 0.8783\n",
            "Epoch 5/18\n",
            "1500/1500 [==============================] - 4s 3ms/step - loss: 0.2856 - accuracy: 0.8939 - val_loss: 0.3473 - val_accuracy: 0.8738\n",
            "Epoch 6/18\n",
            "1500/1500 [==============================] - 5s 3ms/step - loss: 0.2699 - accuracy: 0.8986 - val_loss: 0.3246 - val_accuracy: 0.8803\n",
            "Epoch 7/18\n",
            "1500/1500 [==============================] - 4s 3ms/step - loss: 0.2578 - accuracy: 0.9037 - val_loss: 0.3062 - val_accuracy: 0.8939\n",
            "Epoch 8/18\n",
            "1500/1500 [==============================] - 4s 3ms/step - loss: 0.2478 - accuracy: 0.9073 - val_loss: 0.3354 - val_accuracy: 0.8804\n",
            "Epoch 9/18\n",
            "1500/1500 [==============================] - 5s 3ms/step - loss: 0.2346 - accuracy: 0.9114 - val_loss: 0.3198 - val_accuracy: 0.8877\n",
            "Epoch 10/18\n",
            "1500/1500 [==============================] - 4s 3ms/step - loss: 0.2241 - accuracy: 0.9158 - val_loss: 0.3484 - val_accuracy: 0.8771\n",
            "Epoch 11/18\n",
            "1500/1500 [==============================] - 4s 3ms/step - loss: 0.2160 - accuracy: 0.9190 - val_loss: 0.3244 - val_accuracy: 0.8910\n",
            "Epoch 12/18\n",
            "1500/1500 [==============================] - 5s 3ms/step - loss: 0.2095 - accuracy: 0.9213 - val_loss: 0.3401 - val_accuracy: 0.8833\n",
            "Epoch 13/18\n",
            "1500/1500 [==============================] - 4s 3ms/step - loss: 0.2007 - accuracy: 0.9237 - val_loss: 0.3388 - val_accuracy: 0.8885\n",
            "Epoch 14/18\n",
            "1500/1500 [==============================] - 5s 3ms/step - loss: 0.1920 - accuracy: 0.9285 - val_loss: 0.3396 - val_accuracy: 0.8866\n",
            "Epoch 15/18\n",
            "1500/1500 [==============================] - 5s 3ms/step - loss: 0.1852 - accuracy: 0.9309 - val_loss: 0.3256 - val_accuracy: 0.8936\n",
            "Epoch 16/18\n",
            "1500/1500 [==============================] - 4s 3ms/step - loss: 0.1775 - accuracy: 0.9329 - val_loss: 0.3326 - val_accuracy: 0.8878\n",
            "Epoch 17/18\n",
            "1500/1500 [==============================] - 6s 4ms/step - loss: 0.1723 - accuracy: 0.9347 - val_loss: 0.3532 - val_accuracy: 0.8856\n",
            "Epoch 18/18\n",
            "1500/1500 [==============================] - 4s 3ms/step - loss: 0.1679 - accuracy: 0.9363 - val_loss: 0.3492 - val_accuracy: 0.8891\n"
          ]
        },
        {
          "output_type": "execute_result",
          "data": {
            "text/plain": [
              "<keras.src.callbacks.History at 0x7a9a21c11b10>"
            ]
          },
          "metadata": {},
          "execution_count": 11
        }
      ],
      "source": [
        "hypermodel = tuner.hypermodel.build(best_hps)\n",
        "\n",
        "# Retrain the model\n",
        "hypermodel.fit(img_train, label_train, epochs=best_epoch, validation_split=0.2)"
      ]
    },
    {
      "cell_type": "markdown",
      "metadata": {
        "id": "MqU5ZVAaag2v"
      },
      "source": [
        "Evaluating the hypermodel on the test data."
      ]
    },
    {
      "cell_type": "code",
      "execution_count": 12,
      "metadata": {
        "execution": {
          "iopub.execute_input": "2023-12-07T03:34:44.275340Z",
          "iopub.status.busy": "2023-12-07T03:34:44.274641Z",
          "iopub.status.idle": "2023-12-07T03:34:45.100071Z",
          "shell.execute_reply": "2023-12-07T03:34:45.099323Z"
        },
        "id": "9E0BTp9Ealjb",
        "colab": {
          "base_uri": "https://localhost:8080/"
        },
        "outputId": "fc99d18e-9b6a-4c5a-9466-a76d5ab0afef"
      },
      "outputs": [
        {
          "output_type": "stream",
          "name": "stdout",
          "text": [
            "313/313 [==============================] - 1s 3ms/step - loss: 0.3798 - accuracy: 0.8855\n",
            "[test loss, test accuracy]: [0.37982237339019775, 0.8855000138282776]\n"
          ]
        }
      ],
      "source": [
        "eval_result = hypermodel.evaluate(img_test, label_test)\n",
        "print(\"[test loss, test accuracy]:\", eval_result)"
      ]
    }
  ],
  "metadata": {
    "accelerator": "GPU",
    "colab": {
      "collapsed_sections": [
        "Tce3stUlHN0L"
      ],
      "toc_visible": true,
      "provenance": [],
      "gpuType": "T4"
    },
    "kernelspec": {
      "display_name": "Python 3",
      "name": "python3"
    },
    "language_info": {
      "codemirror_mode": {
        "name": "ipython",
        "version": 3
      },
      "file_extension": ".py",
      "mimetype": "text/x-python",
      "name": "python",
      "nbconvert_exporter": "python",
      "pygments_lexer": "ipython3",
      "version": "3.9.18"
    }
  },
  "nbformat": 4,
  "nbformat_minor": 0
}